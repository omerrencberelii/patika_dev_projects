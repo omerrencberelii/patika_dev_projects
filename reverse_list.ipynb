{
  "nbformat": 4,
  "nbformat_minor": 0,
  "metadata": {
    "colab": {
      "provenance": []
    },
    "kernelspec": {
      "name": "python3",
      "display_name": "Python 3"
    },
    "language_info": {
      "name": "python"
    }
  },
  "cells": [
    {
      "cell_type": "code",
      "execution_count": 2,
      "metadata": {
        "colab": {
          "base_uri": "https://localhost:8080/"
        },
        "id": "dxeXMYETg3In",
        "outputId": "d4d96268-e111-44b7-d72d-c0e6876dbe9e"
      },
      "outputs": [
        {
          "output_type": "stream",
          "name": "stdout",
          "text": [
            "[[7, 6, 5], [4, 3], [2, 1]]\n"
          ]
        }
      ],
      "source": [
        "# This code will reverse the list-typed elements of the list and also this reverses this list-typed elements \n",
        "input = [[1, 2], [3, 4], [5, 6, 7]]\n",
        "input.reverse()\n",
        "for i in range(len(input)):\n",
        "    (input[i])=(input[i])[::-1]\n",
        "print(input)"
      ]
    }
  ]
}