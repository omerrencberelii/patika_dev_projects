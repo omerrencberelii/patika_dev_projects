{
  "nbformat": 4,
  "nbformat_minor": 0,
  "metadata": {
    "colab": {
      "provenance": []
    },
    "kernelspec": {
      "name": "python3",
      "display_name": "Python 3"
    },
    "language_info": {
      "name": "python"
    }
  },
  "cells": [
    {
      "cell_type": "code",
      "execution_count": 2,
      "metadata": {
        "id": "ki2JcRxtHhlN"
      },
      "outputs": [],
      "source": [
        "# Today, we will create a function that flattens a list\n",
        "output = []\n",
        "def flatten(liste):\n",
        "    for i in liste:\n",
        "        if type(i) == list:\n",
        "            flatten(i)\n",
        "        else:\n",
        "            output.append(i)\n",
        "    return output"
      ]
    },
    {
      "cell_type": "code",
      "source": [
        "# input sample\n",
        "flatten([[1, 'a', ['cat'], 2], [[[3]], 'dog'], 4, 5]) "
      ],
      "metadata": {
        "colab": {
          "base_uri": "https://localhost:8080/"
        },
        "id": "l-ieXoQOdp6T",
        "outputId": "ad09aa6a-6ebd-4f44-a131-1aef4ea3d182"
      },
      "execution_count": 3,
      "outputs": [
        {
          "output_type": "execute_result",
          "data": {
            "text/plain": [
              "[1, 'a', 'cat', 2, 3, 'dog', 4, 5]"
            ]
          },
          "metadata": {},
          "execution_count": 3
        }
      ]
    },
    {
      "cell_type": "code",
      "source": [
        "# This function will reverse the list-typed elements of the list and also this reverses this list-typed elements \n",
        "def reverse_list(liste):\n",
        "    liste.reverse()\n",
        "    for i in range(len(liste)):\n",
        "        (liste[i])=(liste[i])[::-1]\n",
        "    return liste"
      ],
      "metadata": {
        "id": "2Z3W0opkd3_1"
      },
      "execution_count": 4,
      "outputs": []
    },
    {
      "cell_type": "code",
      "source": [
        "liste = [[1, 2], [3, 4], [5, 6, 7]] \n",
        "reverse_list(liste)"
      ],
      "metadata": {
        "colab": {
          "base_uri": "https://localhost:8080/"
        },
        "id": "lY8ejNUNi2Vi",
        "outputId": "9b397715-bdc6-41d3-aad5-ed1531a02367"
      },
      "execution_count": 5,
      "outputs": [
        {
          "output_type": "execute_result",
          "data": {
            "text/plain": [
              "[[7, 6, 5], [4, 3], [2, 1]]"
            ]
          },
          "metadata": {},
          "execution_count": 5
        }
      ]
    }
  ]
}