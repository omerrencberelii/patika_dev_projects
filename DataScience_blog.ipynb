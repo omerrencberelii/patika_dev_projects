{
  "nbformat": 4,
  "nbformat_minor": 0,
  "metadata": {
    "colab": {
      "provenance": []
    },
    "kernelspec": {
      "name": "python3",
      "display_name": "Python 3"
    },
    "language_info": {
      "name": "python"
    }
  },
  "cells": [
    {
      "cell_type": "markdown",
      "source": [
        "# Data Science Blog \n",
        "## Data Science in Healthcare\n",
        "---\n",
        "* Data science is an interdisciplinary field that extracts knowledge and insights from many structural and unstructured data, using scientific methods, data mining techniques, machine-learning algorithms, and big data. The healthcare industry generates large datasets of useful information on patient demography, treatment plans, results of medical examinations, insurance, etc. \n",
        "* The data collected from the Internet of Things (IoT) devices attract the attention of data scientists. Data science provides id to process, manage, analyze, and assimilate the large quantities of fragmented, structured, and unstructured data created by healthcare systems. \n",
        "* This data requires effective management and analysis to acquire factual results. The process of data cleansing, data mining, data preparation, and data analysis used in healthcare applications is reviewed and discussed in the article. The article provides an insight into the status and prospects of big data analytics in healthcare, highlights the advantages, describes the frameworks and techniques used, briefs about the challenges faced currently, and discusses viable solutions. \n",
        "* Finally, data science and big data analytics can provide practical insights and aid in the decision-making of strategic decisions concerning the health system. It helps build a comprehensive view of patients, consumers, and clinicians. Data-driven decision-making opens up new possibilities to boost healthcare quality."
      ],
      "metadata": {
        "id": "0OPaWsu5o5P1"
      }
    },
    {
      "cell_type": "code",
      "source": [],
      "metadata": {
        "id": "b7bhf87IpvT7"
      },
      "execution_count": null,
      "outputs": []
    }
  ]
}